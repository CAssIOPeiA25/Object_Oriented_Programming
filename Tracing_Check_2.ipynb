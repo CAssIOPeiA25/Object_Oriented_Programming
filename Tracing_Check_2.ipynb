{
  "nbformat": 4,
  "nbformat_minor": 0,
  "metadata": {
    "colab": {
      "provenance": [],
      "authorship_tag": "ABX9TyNV16/3UfINxsq3c/8JRcde",
      "include_colab_link": true
    },
    "kernelspec": {
      "name": "python3",
      "display_name": "Python 3"
    },
    "language_info": {
      "name": "python"
    }
  },
  "cells": [
    {
      "cell_type": "markdown",
      "metadata": {
        "id": "view-in-github",
        "colab_type": "text"
      },
      "source": [
        "<a href=\"https://colab.research.google.com/github/CAssIOPeiA25/Object_Oriented_Programming/blob/main/Tracing_Check_2.ipynb\" target=\"_parent\"><img src=\"https://colab.research.google.com/assets/colab-badge.svg\" alt=\"Open In Colab\"/></a>"
      ]
    },
    {
      "cell_type": "code",
      "execution_count": null,
      "metadata": {
        "colab": {
          "base_uri": "https://localhost:8080/"
        },
        "id": "WGeKPEyG0jfk",
        "outputId": "14f3626b-9159-43b1-ce10-7c84194be732"
      },
      "outputs": [
        {
          "output_type": "stream",
          "name": "stdout",
          "text": [
            "18 7 25\n",
            "18 7 25\n",
            "44 11 80\n",
            "55 22 157\n"
          ]
        }
      ],
      "source": [
        "class Test:\n",
        "    def __init__(self):\n",
        "        self.sum = 0\n",
        "        self.y = 0\n",
        "\n",
        "\n",
        "    def methodA(self):\n",
        "        x=0\n",
        "        y=0\n",
        "        y = y + 7\n",
        "        x = y + 11\n",
        "        self.sum = x + y\n",
        "        print(x , y, self.sum)\n",
        "\n",
        "\n",
        "    def methodB(self):\n",
        "        x = 0\n",
        "        self.y = self.y + 11\n",
        "        x = x + 33 + self.y\n",
        "        self.sum = self.sum + x + self.y\n",
        "        print(x , self.y, self.sum)\n",
        "t1 = Test()\n",
        "t1.methodA()\n",
        "t1.methodA()\n",
        "t1.methodB()\n",
        "t1.methodB()\n",
        "\n",
        "\n"
      ]
    },
    {
      "cell_type": "code",
      "source": [
        "class Scope:\n",
        "    def __init__(self):\n",
        "        self.x, self.y = 1, 100        \n",
        "    def met1(self):\n",
        "        x = 3\n",
        "        x = self.x + 1\n",
        "        self.y = self.y + self.x + 1\n",
        "        x = self.y + self.met2() + self.y\n",
        "        print(x, self.y)         \n",
        "    def met2(self):\n",
        "        y = 0\n",
        "        print(self.x, y)\n",
        "        self.x = self.x + y\n",
        "        self.y = self.y + 200\n",
        "        return self.x + y\n",
        "q2 = Scope()\n",
        "q2.met1()\n",
        "q2.met2()\n",
        "q2.met1()\n",
        "q2.met2()\n",
        "\n",
        "\n"
      ],
      "metadata": {
        "colab": {
          "base_uri": "https://localhost:8080/"
        },
        "id": "uJ-mXPCk3Kua",
        "outputId": "736e95e0-2153-4f4f-9ce8-4c3fd1a2e85a"
      },
      "execution_count": null,
      "outputs": [
        {
          "output_type": "stream",
          "name": "stdout",
          "text": [
            "1 0\n",
            "405 302\n",
            "1 0\n",
            "1 0\n",
            "1209 704\n",
            "1 0\n"
          ]
        },
        {
          "output_type": "execute_result",
          "data": {
            "text/plain": [
              "1"
            ]
          },
          "metadata": {},
          "execution_count": 2
        }
      ]
    },
    {
      "cell_type": "code",
      "source": [
        "class Test3: \n",
        "    def __init__(self):\n",
        "        self.sum, self.y = 0, 0\n",
        "    def methodA(self):\n",
        "        x, y = 2, 3\n",
        "        msg = [0]\n",
        "        msg[0] = 3\n",
        "        y = self.y + msg[0]\n",
        "        self.methodB(msg, msg[0])\n",
        "        x = self.y + msg[0]\n",
        "        self.sum = x + y + msg[0]\n",
        "        print(x, y, self.sum)\n",
        "    def methodB(self, mg2, mg1):\n",
        "        x = 0\n",
        "        self.y = self.y + mg2[0]\n",
        "        x = x + 33 + mg1\n",
        "        self.sum = self.sum + x + self.y\n",
        "        mg2[0] = self.y + mg1\n",
        "        mg1 = mg1 + x + 2\n",
        "        print(x, self.y, self.sum)\n",
        "t3 = Test3()\n",
        "t3.methodA()\n",
        "t3.methodA()\n",
        "t3.methodA()\n",
        "t3.methodA()\n",
        "\n",
        "\n"
      ],
      "metadata": {
        "colab": {
          "base_uri": "https://localhost:8080/"
        },
        "id": "X9Kvt1QX5wp7",
        "outputId": "a06eb931-6c30-451b-bc48-923e720c56fc"
      },
      "execution_count": null,
      "outputs": [
        {
          "output_type": "stream",
          "name": "stdout",
          "text": [
            "36 3 39\n",
            "9 3 18\n",
            "36 6 60\n",
            "15 6 30\n",
            "36 9 75\n",
            "21 9 42\n",
            "36 12 90\n",
            "27 12 54\n"
          ]
        }
      ]
    },
    {
      "cell_type": "code",
      "source": [
        "class Test5:\n",
        "    def __init__(self):\n",
        "        self.sum, self.y = 0, 0\n",
        "    def methodA(self):    \n",
        "        x = 0\n",
        "        z = 0\n",
        "        while (z < 5):\n",
        "            self.y = self.y + self.sum\n",
        "            x = self.y + 1\n",
        "            print(x, self.y, self.sum)\n",
        "            self.sum = self.sum + self.methodB(x, self.y)\n",
        "            z += 1\n",
        "    def methodB(self, m, n):\n",
        "        x = 0\n",
        "        sum = 0\n",
        "        self.y = self.y + m\n",
        "        x = n - 4\n",
        "        sum = sum + self.y\n",
        "        print(x, self.y, sum)\n",
        "        return self.sum\n",
        "t5 = Test5()\n",
        "t5.methodA()\n",
        "\n",
        "\n"
      ],
      "metadata": {
        "colab": {
          "base_uri": "https://localhost:8080/"
        },
        "id": "Yzy2nPxK_9VC",
        "outputId": "9b3e044b-c14d-4862-e51b-22a7ac76286a"
      },
      "execution_count": null,
      "outputs": [
        {
          "output_type": "stream",
          "name": "stdout",
          "text": [
            "1 0 0\n",
            "-4 1 1\n",
            "2 1 0\n",
            "-3 3 3\n",
            "4 3 0\n",
            "-1 7 7\n",
            "8 7 0\n",
            "3 15 15\n",
            "16 15 0\n",
            "11 31 31\n"
          ]
        }
      ]
    },
    {
      "cell_type": "code",
      "source": [
        "class FinalT6A:\n",
        "    def __init__(self, x, p):\n",
        "        self.temp, self.sum, self.y = 4, 0, 1\n",
        "        self.temp += 1\n",
        "        self.y = self.temp - p\n",
        "        self.sum = self.temp + x\n",
        "        print(x, self.y, self.sum)\n",
        "    def methodA(self):\n",
        "        x = 0\n",
        "        y = 0\n",
        "        y = y + self.y\n",
        "        x = self.y + 2 + self.temp\n",
        "        self.sum = x + y + self.methodB(self.temp, y)\n",
        "        print(x, y, self.sum)\n",
        "    def methodB(self, temp, n):\n",
        "        x = 0\n",
        "        temp += 1\n",
        "        self.y = self.y + temp\n",
        "        x = x + 3 + n\n",
        "        self.sum = self.sum + x + self.y\n",
        "        print(x, self.y, self.sum)\n",
        "        return self.sum\n",
        "q1 = FinalT6A(2,1)\n",
        "q1.methodA()\n",
        "q1.methodA()\n",
        "\n",
        "\n"
      ],
      "metadata": {
        "colab": {
          "base_uri": "https://localhost:8080/"
        },
        "id": "h3We8kcDD24B",
        "outputId": "7a0e9d97-3404-4373-9aa4-7bb7ac38c49c"
      },
      "execution_count": null,
      "outputs": [
        {
          "output_type": "stream",
          "name": "stdout",
          "text": [
            "2 4 7\n",
            "7 10 24\n",
            "11 4 39\n",
            "13 16 68\n",
            "17 10 95\n"
          ]
        }
      ]
    },
    {
      "cell_type": "code",
      "source": [
        "class Quiz3A:\n",
        "    def __init__(self, k = None):\n",
        "        self.temp, self.sum, self.y = 4, 0, 0\n",
        "        if k != None:\n",
        "            self.temp += 1\n",
        "            self.temp = self.temp\n",
        "            self.sum = self.temp + k\n",
        "            self.y = self.sum - 1\n",
        "        else:\n",
        "            self.y = self.temp - 1\n",
        "            self.sum = self.temp + 1\n",
        "            self.temp += 2    \n",
        "    def methodB(self, m, n):\n",
        "        x = 0\n",
        "        self.temp += 1\n",
        "        self.y = self.y + m + (self.temp)\n",
        "        x = x + 2 + n\n",
        "        self.sum = self.sum + x + self.y\n",
        "        print(x, self.y, self.sum)\n",
        "        return self.sum\n",
        "a1 = Quiz3A()\n",
        "a1.methodB(1,2)\n",
        "a2 = Quiz3A(3)\n",
        "a2.methodB(2,4)\n",
        "a1.methodB(2,1)\n",
        "a2.methodB(1,3)\n",
        "\n",
        "\n"
      ],
      "metadata": {
        "colab": {
          "base_uri": "https://localhost:8080/"
        },
        "id": "EFvYbyc1F6Kh",
        "outputId": "6a125048-1385-4eef-b4e0-90b2c469c75a"
      },
      "execution_count": null,
      "outputs": [
        {
          "output_type": "stream",
          "name": "stdout",
          "text": [
            "4 11 20\n",
            "6 15 29\n",
            "3 21 44\n",
            "5 23 57\n"
          ]
        },
        {
          "output_type": "execute_result",
          "data": {
            "text/plain": [
              "57"
            ]
          },
          "metadata": {},
          "execution_count": 6
        }
      ]
    },
    {
      "cell_type": "code",
      "source": [
        "class Test5:\n",
        "  def __init__(self):\n",
        "      self.sum = 0\n",
        "      self.y = 0\n",
        "  def methodA(self):   \n",
        "      x=y=k=0\n",
        "      msg = [5]  \n",
        "      while (k < 2):\n",
        "          y += msg[0]     \n",
        "          x = y + self.methodB(msg, k)\n",
        "          self.sum = x + y + msg[0]\n",
        "          print(x ,\" \" , y, \" \" , self.sum)\n",
        "          k+=1 \n",
        "  def methodB(self, mg2, mg1):\n",
        "        x = 0\n",
        "        self.y += mg2[0]\n",
        "        x = x + 3 + mg1\n",
        "        self.sum += x + self.y\n",
        "        mg2[0] = self.y + mg1\n",
        "        mg1 += x + 2\n",
        "        print(x , \" \" ,self.y, \" \" , self.sum)\n",
        "        return mg1\n",
        "\n",
        "t1 = Test5()\n",
        "t1.methodA()\n",
        "t1.methodA()\n"
      ],
      "metadata": {
        "colab": {
          "base_uri": "https://localhost:8080/"
        },
        "id": "RuWbnbRIITVY",
        "outputId": "21d19599-9ce5-42dd-a8c0-aa53b9116a54"
      },
      "execution_count": null,
      "outputs": [
        {
          "output_type": "stream",
          "name": "stdout",
          "text": [
            "3   5   8\n",
            "10   5   20\n",
            "4   10   34\n",
            "17   10   38\n",
            "3   15   56\n",
            "10   5   30\n",
            "4   30   64\n",
            "27   20   78\n"
          ]
        }
      ]
    },
    {
      "cell_type": "code",
      "source": [
        "class Test4:\n",
        "    def __init__(self):\n",
        "        self.sum, self.y = 0, 0\n",
        "    def methodA(self):\n",
        "        x, y = 0, 0\n",
        "        msg = [0]\n",
        "        msg[0] = 5\n",
        "        y = y + self.methodB(msg[0])\n",
        "        x = y + self.methodB(msg, msg[0])\n",
        "        self.sum = x + y + msg[0]\n",
        "        print(x, y, self.sum)\n",
        "    def methodB(self, *args):\n",
        "        if len(args) == 1:\n",
        "            mg1 = args[0]\n",
        "            x, y = 0, 0\n",
        "            y = y + mg1\n",
        "            x = x + 33 + mg1\n",
        "            self.sum = self.sum + x + y\n",
        "            self.y = mg1 + x + 2\n",
        "            print(x, y, self.sum)\n",
        "            return y\n",
        "        else:\n",
        "            mg2, mg1 = args\n",
        "            x = 0\n",
        "            self.y = self.y + mg2[0]\n",
        "            x = x + 33 + mg1\n",
        "            self.sum = self.sum + x + self.y\n",
        "            mg2[0] = self.y + mg1\n",
        "            mg1 = mg1 + x + 2\n",
        "            print(x, self.y, self.sum)\n",
        "            return self.sum\n",
        "\n",
        "t3 = Test4()\n",
        "t3.methodA()\n",
        "t3.methodA()\n",
        "t3.methodA()\n",
        "t3.methodA()\n"
      ],
      "metadata": {
        "colab": {
          "base_uri": "https://localhost:8080/"
        },
        "id": "CYmx3DspOqVJ",
        "outputId": "3712c320-3477-461a-8226-af6816c81751"
      },
      "execution_count": null,
      "outputs": [
        {
          "output_type": "stream",
          "name": "stdout",
          "text": [
            "38 5 43\n",
            "38 50 131\n",
            "136 5 196\n",
            "38 5 239\n",
            "38 50 327\n",
            "332 5 392\n",
            "38 5 435\n",
            "38 50 523\n",
            "528 5 588\n",
            "38 5 631\n",
            "38 50 719\n",
            "724 5 784\n"
          ]
        }
      ]
    },
    {
      "cell_type": "code",
      "source": [
        "class msgClass: \n",
        "    def __init__(self):\n",
        "        self.content = 0 \n",
        "class Q5:\n",
        "    def __init__(self):\n",
        "        self.sum = 1\n",
        "        self.x = 2\n",
        "        self.y = 3 \n",
        "    def methodA(self):\n",
        "        x, y = 1, 1\n",
        "        msg = []\n",
        "        myMsg = msgClass()\n",
        "        myMsg.content = self.x\n",
        "        msg.append(myMsg)\n",
        "        msg[0].content = self.y + myMsg.content\n",
        "        self.y = self.y + self.methodB(msg[0])\n",
        "        y = self.methodB(msg[0]) + self.y\n",
        "        x = y + self.methodB(msg[0], msg)\n",
        "        self.sum = x + y + msg[0].content\n",
        "        print(x,\" \", y,\" \", self.sum)  \n",
        "    def methodB(self, mg1, mg2 = None):\n",
        "        if mg2 == None:\n",
        "            x, y = 5, 6\n",
        "            y = self.sum + mg1.content\n",
        "            self.y = y + mg1.content\n",
        "            x = self.x + 7 +mg1.content\n",
        "            self.sum = self.sum + x + y\n",
        "            self.x = mg1.content + x +8\n",
        "            print(x, \" \", y,\" \", self.sum)\n",
        "            return y\n",
        "        else:\n",
        "            x = 1\n",
        "            self.y += mg2[0].content\n",
        "            mg2[0].content = self.y + mg1.content\n",
        "            x = x + 4 + mg1.content\n",
        "            self.sum += x + self.y\n",
        "            mg1.content = self.sum - mg2[0].content\n",
        "            print(self.x, \" \",self.y,\" \", self.sum)\n",
        "            return self.sum\n",
        "q = Q5()\n",
        "q.methodA()\n",
        "\n",
        "\n",
        "     \n",
        " \n",
        "\n"
      ],
      "metadata": {
        "colab": {
          "base_uri": "https://localhost:8080/"
        },
        "id": "eqhsq2RIXO63",
        "outputId": "5c5a9ccd-814f-401e-8578-df7d52bd30f7"
      },
      "execution_count": null,
      "outputs": [
        {
          "output_type": "stream",
          "name": "stdout",
          "text": [
            "14   6   21\n",
            "39   26   86\n",
            "52   36   168\n",
            "225   57   409\n"
          ]
        }
      ]
    }
  ]
}